{
 "cells": [
  {
   "cell_type": "code",
   "execution_count": 1,
   "metadata": {},
   "outputs": [],
   "source": [
    "import time\n",
    "import datetime\n",
    "import pandas as pd\n",
    "from plyer import notification"
   ]
  },
  {
   "cell_type": "code",
   "execution_count": 2,
   "metadata": {
    "scrolled": true
   },
   "outputs": [
    {
     "data": {
      "text/html": [
       "<div>\n",
       "<style scoped>\n",
       "    .dataframe tbody tr th:only-of-type {\n",
       "        vertical-align: middle;\n",
       "    }\n",
       "\n",
       "    .dataframe tbody tr th {\n",
       "        vertical-align: top;\n",
       "    }\n",
       "\n",
       "    .dataframe thead th {\n",
       "        text-align: right;\n",
       "    }\n",
       "</style>\n",
       "<table border=\"1\" class=\"dataframe\">\n",
       "  <thead>\n",
       "    <tr style=\"text-align: right;\">\n",
       "      <th></th>\n",
       "      <th>Word</th>\n",
       "      <th>Meaning</th>\n",
       "      <th>Examples/0</th>\n",
       "      <th>Examples/1</th>\n",
       "      <th>Examples/2</th>\n",
       "      <th>Examples/3</th>\n",
       "      <th>Examples/4</th>\n",
       "      <th>Examples/5</th>\n",
       "      <th>Examples/6</th>\n",
       "      <th>Examples/7</th>\n",
       "      <th>Examples/8</th>\n",
       "      <th>Examples/9</th>\n",
       "    </tr>\n",
       "  </thead>\n",
       "  <tbody>\n",
       "    <tr>\n",
       "      <th>0</th>\n",
       "      <td>A bed of roses</td>\n",
       "      <td>a phrase used to reference a situation that is...</td>\n",
       "      <td>The poor orphan’s life hasn’t been a bed of ro...</td>\n",
       "      <td>Because Mark studied for many weeks, taking th...</td>\n",
       "      <td>The stressed business owner quickly realized t...</td>\n",
       "      <td>NaN</td>\n",
       "      <td>NaN</td>\n",
       "      <td>NaN</td>\n",
       "      <td>NaN</td>\n",
       "      <td>NaN</td>\n",
       "      <td>NaN</td>\n",
       "      <td>NaN</td>\n",
       "    </tr>\n",
       "    <tr>\n",
       "      <th>1</th>\n",
       "      <td>A Priori</td>\n",
       "      <td>something that is believed to be true without ...</td>\n",
       "      <td>Religious people have the a priori belief that...</td>\n",
       "      <td>The jaded woman made a priori assumptions that...</td>\n",
       "      <td>Christopher Columbus had the a priori belief t...</td>\n",
       "      <td>People make a priori assumptions that the sun ...</td>\n",
       "      <td>Lawyers use a priori arguments about their def...</td>\n",
       "      <td>NaN</td>\n",
       "      <td>NaN</td>\n",
       "      <td>NaN</td>\n",
       "      <td>NaN</td>\n",
       "      <td>NaN</td>\n",
       "    </tr>\n",
       "    <tr>\n",
       "      <th>2</th>\n",
       "      <td>Aardvark</td>\n",
       "      <td>a large, long-eared nocturnal animal that uses...</td>\n",
       "      <td>The long-eared aardvark slept all day and ate ...</td>\n",
       "      <td>With its rabbit like ears and piglike snout, t...</td>\n",
       "      <td>Living a solitary nightlife, the African aardv...</td>\n",
       "      <td>The aardvark is a snouty mammal that dines hea...</td>\n",
       "      <td>Though it is a small mammal, the closest relat...</td>\n",
       "      <td>NaN</td>\n",
       "      <td>NaN</td>\n",
       "      <td>NaN</td>\n",
       "      <td>NaN</td>\n",
       "      <td>NaN</td>\n",
       "    </tr>\n",
       "    <tr>\n",
       "      <th>3</th>\n",
       "      <td>Aback</td>\n",
       "      <td>in amazement; shocked</td>\n",
       "      <td>I was taken aback by the server’s rude comment...</td>\n",
       "      <td>While Amy enjoyed the film as a whole, as a mi...</td>\n",
       "      <td>Ken believed he had a great marriage so he was...</td>\n",
       "      <td>At seventy years of age, Wanda was taken aback...</td>\n",
       "      <td>Although I had been exercising daily and eatin...</td>\n",
       "      <td>NaN</td>\n",
       "      <td>NaN</td>\n",
       "      <td>NaN</td>\n",
       "      <td>NaN</td>\n",
       "      <td>NaN</td>\n",
       "    </tr>\n",
       "    <tr>\n",
       "      <th>4</th>\n",
       "      <td>Abaft</td>\n",
       "      <td>toward the stern; behind</td>\n",
       "      <td>The wind was abaft which made the ship glide f...</td>\n",
       "      <td>They placed the lifeboats in the rear part of ...</td>\n",
       "      <td>My first sailing lesson was learning that abaf...</td>\n",
       "      <td>The sea spray was coming from abaft, making my...</td>\n",
       "      <td>I was told to sit abaft to lessen my seasickne...</td>\n",
       "      <td>NaN</td>\n",
       "      <td>NaN</td>\n",
       "      <td>NaN</td>\n",
       "      <td>NaN</td>\n",
       "      <td>NaN</td>\n",
       "    </tr>\n",
       "  </tbody>\n",
       "</table>\n",
       "</div>"
      ],
      "text/plain": [
       "             Word                                            Meaning  \\\n",
       "0  A bed of roses  a phrase used to reference a situation that is...   \n",
       "1        A Priori  something that is believed to be true without ...   \n",
       "2        Aardvark  a large, long-eared nocturnal animal that uses...   \n",
       "3          Aback                               in amazement; shocked   \n",
       "4           Abaft                           toward the stern; behind   \n",
       "\n",
       "                                          Examples/0  \\\n",
       "0  The poor orphan’s life hasn’t been a bed of ro...   \n",
       "1  Religious people have the a priori belief that...   \n",
       "2  The long-eared aardvark slept all day and ate ...   \n",
       "3  I was taken aback by the server’s rude comment...   \n",
       "4  The wind was abaft which made the ship glide f...   \n",
       "\n",
       "                                          Examples/1  \\\n",
       "0  Because Mark studied for many weeks, taking th...   \n",
       "1  The jaded woman made a priori assumptions that...   \n",
       "2  With its rabbit like ears and piglike snout, t...   \n",
       "3  While Amy enjoyed the film as a whole, as a mi...   \n",
       "4  They placed the lifeboats in the rear part of ...   \n",
       "\n",
       "                                          Examples/2  \\\n",
       "0  The stressed business owner quickly realized t...   \n",
       "1  Christopher Columbus had the a priori belief t...   \n",
       "2  Living a solitary nightlife, the African aardv...   \n",
       "3  Ken believed he had a great marriage so he was...   \n",
       "4  My first sailing lesson was learning that abaf...   \n",
       "\n",
       "                                          Examples/3  \\\n",
       "0                                                NaN   \n",
       "1  People make a priori assumptions that the sun ...   \n",
       "2  The aardvark is a snouty mammal that dines hea...   \n",
       "3  At seventy years of age, Wanda was taken aback...   \n",
       "4  The sea spray was coming from abaft, making my...   \n",
       "\n",
       "                                          Examples/4 Examples/5 Examples/6  \\\n",
       "0                                                NaN        NaN        NaN   \n",
       "1  Lawyers use a priori arguments about their def...        NaN        NaN   \n",
       "2  Though it is a small mammal, the closest relat...        NaN        NaN   \n",
       "3  Although I had been exercising daily and eatin...        NaN        NaN   \n",
       "4  I was told to sit abaft to lessen my seasickne...        NaN        NaN   \n",
       "\n",
       "  Examples/7 Examples/8 Examples/9  \n",
       "0        NaN        NaN        NaN  \n",
       "1        NaN        NaN        NaN  \n",
       "2        NaN        NaN        NaN  \n",
       "3        NaN        NaN        NaN  \n",
       "4        NaN        NaN        NaN  "
      ]
     },
     "execution_count": 2,
     "metadata": {},
     "output_type": "execute_result"
    }
   ],
   "source": [
    "data = pd.read_csv(\"C://Users//welcome//Downloads//word-meaning-examples.csv\")\n",
    "data.head()"
   ]
  },
  {
   "cell_type": "code",
   "execution_count": 3,
   "metadata": {},
   "outputs": [
    {
     "data": {
      "text/plain": [
       "(13161, 12)"
      ]
     },
     "execution_count": 3,
     "metadata": {},
     "output_type": "execute_result"
    }
   ],
   "source": [
    "data.shape"
   ]
  },
  {
   "cell_type": "code",
   "execution_count": 4,
   "metadata": {},
   "outputs": [
    {
     "data": {
      "text/plain": [
       "Word              0\n",
       "Meaning          16\n",
       "Examples/0        0\n",
       "Examples/1      375\n",
       "Examples/2      382\n",
       "Examples/3     1721\n",
       "Examples/4     1733\n",
       "Examples/5    11475\n",
       "Examples/6    11475\n",
       "Examples/7    11475\n",
       "Examples/8    11475\n",
       "Examples/9    11479\n",
       "dtype: int64"
      ]
     },
     "execution_count": 4,
     "metadata": {},
     "output_type": "execute_result"
    }
   ],
   "source": [
    "data.isnull().sum()"
   ]
  },
  {
   "cell_type": "code",
   "execution_count": 5,
   "metadata": {},
   "outputs": [],
   "source": [
    "data.dropna( how='any', subset=['Meaning'], inplace=True)"
   ]
  },
  {
   "cell_type": "code",
   "execution_count": 6,
   "metadata": {},
   "outputs": [
    {
     "data": {
      "text/plain": [
       "(13145, 12)"
      ]
     },
     "execution_count": 6,
     "metadata": {},
     "output_type": "execute_result"
    }
   ],
   "source": [
    "data.shape"
   ]
  },
  {
   "cell_type": "code",
   "execution_count": 7,
   "metadata": {},
   "outputs": [],
   "source": [
    "data.dropna(axis=1,inplace=True)"
   ]
  },
  {
   "cell_type": "code",
   "execution_count": 8,
   "metadata": {},
   "outputs": [
    {
     "data": {
      "text/plain": [
       "(13145, 3)"
      ]
     },
     "execution_count": 8,
     "metadata": {},
     "output_type": "execute_result"
    }
   ],
   "source": [
    "data.shape"
   ]
  },
  {
   "cell_type": "code",
   "execution_count": 9,
   "metadata": {},
   "outputs": [
    {
     "data": {
      "text/html": [
       "<div>\n",
       "<style scoped>\n",
       "    .dataframe tbody tr th:only-of-type {\n",
       "        vertical-align: middle;\n",
       "    }\n",
       "\n",
       "    .dataframe tbody tr th {\n",
       "        vertical-align: top;\n",
       "    }\n",
       "\n",
       "    .dataframe thead th {\n",
       "        text-align: right;\n",
       "    }\n",
       "</style>\n",
       "<table border=\"1\" class=\"dataframe\">\n",
       "  <thead>\n",
       "    <tr style=\"text-align: right;\">\n",
       "      <th></th>\n",
       "      <th>Word</th>\n",
       "      <th>Meaning</th>\n",
       "      <th>Examples/0</th>\n",
       "    </tr>\n",
       "  </thead>\n",
       "  <tbody>\n",
       "    <tr>\n",
       "      <th>0</th>\n",
       "      <td>A bed of roses</td>\n",
       "      <td>a phrase used to reference a situation that is...</td>\n",
       "      <td>The poor orphan’s life hasn’t been a bed of ro...</td>\n",
       "    </tr>\n",
       "    <tr>\n",
       "      <th>1</th>\n",
       "      <td>A Priori</td>\n",
       "      <td>something that is believed to be true without ...</td>\n",
       "      <td>Religious people have the a priori belief that...</td>\n",
       "    </tr>\n",
       "    <tr>\n",
       "      <th>2</th>\n",
       "      <td>Aardvark</td>\n",
       "      <td>a large, long-eared nocturnal animal that uses...</td>\n",
       "      <td>The long-eared aardvark slept all day and ate ...</td>\n",
       "    </tr>\n",
       "    <tr>\n",
       "      <th>3</th>\n",
       "      <td>Aback</td>\n",
       "      <td>in amazement; shocked</td>\n",
       "      <td>I was taken aback by the server’s rude comment...</td>\n",
       "    </tr>\n",
       "    <tr>\n",
       "      <th>4</th>\n",
       "      <td>Abaft</td>\n",
       "      <td>toward the stern; behind</td>\n",
       "      <td>The wind was abaft which made the ship glide f...</td>\n",
       "    </tr>\n",
       "  </tbody>\n",
       "</table>\n",
       "</div>"
      ],
      "text/plain": [
       "             Word                                            Meaning  \\\n",
       "0  A bed of roses  a phrase used to reference a situation that is...   \n",
       "1        A Priori  something that is believed to be true without ...   \n",
       "2        Aardvark  a large, long-eared nocturnal animal that uses...   \n",
       "3          Aback                               in amazement; shocked   \n",
       "4           Abaft                           toward the stern; behind   \n",
       "\n",
       "                                          Examples/0  \n",
       "0  The poor orphan’s life hasn’t been a bed of ro...  \n",
       "1  Religious people have the a priori belief that...  \n",
       "2  The long-eared aardvark slept all day and ate ...  \n",
       "3  I was taken aback by the server’s rude comment...  \n",
       "4  The wind was abaft which made the ship glide f...  "
      ]
     },
     "execution_count": 9,
     "metadata": {},
     "output_type": "execute_result"
    }
   ],
   "source": [
    "data.head()"
   ]
  },
  {
   "cell_type": "code",
   "execution_count": 10,
   "metadata": {},
   "outputs": [
    {
     "data": {
      "text/plain": [
       "Word          object\n",
       "Meaning       object\n",
       "Examples/0    object\n",
       "dtype: object"
      ]
     },
     "execution_count": 10,
     "metadata": {},
     "output_type": "execute_result"
    }
   ],
   "source": [
    "data.dtypes"
   ]
  },
  {
   "cell_type": "code",
   "execution_count": 11,
   "metadata": {},
   "outputs": [],
   "source": [
    "def submit():\n",
    "    a = datetime.datetime.strptime(time_txt.get(), \"%H%M%S\")\n",
    "    user_time = a.strftime(\"%H:%M:%S\")\n",
    "    time_txt.set(\"\")\n",
    "    root.destroy()\n",
    "    while True:\n",
    "        current_time = time.strftime(\"%H:%M:%S\")\n",
    "        if current_time == user_time:\n",
    "            print(\"Yes  \",current_time)\n",
    "            print(\"Its time to send the notification.\")\n",
    "            for i in range(1,len(data)):\n",
    "                s1 = data['Word'][i]\n",
    "                s2 = data['Meaning'][i]\n",
    "                notification.notify(title=s1,message=s2,app_name=\"Today's word\",timeout=20 )\n",
    "                time.sleep(24*60*60)\n",
    "                if i==10:\n",
    "                    break\n",
    "    \n",
    "        else:\n",
    "            pass"
   ]
  },
  {
   "cell_type": "code",
   "execution_count": null,
   "metadata": {},
   "outputs": [
    {
     "name": "stdout",
     "output_type": "stream",
     "text": [
      "Yes   12:52:00\n",
      "Its time to send the notification.\n"
     ]
    }
   ],
   "source": [
    "from tkinter import *\n",
    "root = Tk()\n",
    "root.geometry(\"500x150\")\n",
    "time_txt = StringVar()\n",
    "time_label = Label(root, text = \"Enter the time when you want to get the notification (in HHMMSS format)\", font=(\"comicsans\",10))\n",
    "time_entry = Entry(root, textvariable=time_txt)\n",
    "sub_btn = Button(root,text = 'Submit', command = submit)\n",
    "time_label.place(x=20, y=7, width=450, height=50)\n",
    "time_entry.place(x=150, y=60, width=200, height=30)\n",
    "sub_btn.place(x=150, y=100, width=200, height=30)\n",
    "root.mainloop()"
   ]
  },
  {
   "cell_type": "code",
   "execution_count": null,
   "metadata": {},
   "outputs": [],
   "source": []
  }
 ],
 "metadata": {
  "kernelspec": {
   "display_name": "Python 3",
   "language": "python",
   "name": "python3"
  },
  "language_info": {
   "codemirror_mode": {
    "name": "ipython",
    "version": 3
   },
   "file_extension": ".py",
   "mimetype": "text/x-python",
   "name": "python",
   "nbconvert_exporter": "python",
   "pygments_lexer": "ipython3",
   "version": "3.8.5"
  }
 },
 "nbformat": 4,
 "nbformat_minor": 4
}
